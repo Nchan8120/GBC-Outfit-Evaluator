{
 "cells": [
  {
   "cell_type": "code",
   "execution_count": 13,
   "id": "11f88326",
   "metadata": {},
   "outputs": [],
   "source": [
    "import os\n",
    "import pandas as pd\n",
    "from shutil import copy2\n",
    "from PIL import Image\n",
    "import ast"
   ]
  },
  {
   "cell_type": "code",
   "execution_count": 8,
   "id": "bd93b480",
   "metadata": {},
   "outputs": [],
   "source": [
    "CSV_TRAIN = os.path.join(os.pardir, \"data\", \"raw\", \"DeepFashion2\", \"img_info_dataframes\", \"train.csv\")\n",
    "CSV_VAL = os.path.join(os.pardir, \"data\", \"raw\", \"DeepFashion2\", \"img_info_dataframes\", \"validation.csv\")"
   ]
  },
  {
   "cell_type": "code",
   "execution_count": 9,
   "id": "adfb1da4",
   "metadata": {},
   "outputs": [],
   "source": [
    "YOLO_TRAIN_LABEL_DIR = os.path.join(os.pardir, \"yolo\", \"train\", \"labels\")\n",
    "YOLO_VAL_LABEL_DIR = os.path.join(os.pardir, \"yolo\", \"val\", \"labels\")"
   ]
  },
  {
   "cell_type": "code",
   "execution_count": 10,
   "id": "df07fb7a",
   "metadata": {},
   "outputs": [],
   "source": [
    "def convert_bbox_to_yolo(img_w, img_h, x_min, y_min, width, height):\n",
    "    x_center = (x_min + width / 2) / img_w\n",
    "    y_center = (y_min + height / 2) / img_h\n",
    "    w_norm = width / img_w\n",
    "    h_norm = height / img_h\n",
    "    return x_center, y_center, w_norm, h_norm"
   ]
  },
  {
   "cell_type": "code",
   "execution_count": 14,
   "id": "b46d9056",
   "metadata": {},
   "outputs": [],
   "source": [
    "def process_csv(csv_path, label_dest_dir):\n",
    "    df = pd.read_csv(csv_path)\n",
    "\n",
    "    for _, row in df.iterrows():\n",
    "        # Parse bbox string to list\n",
    "        try:\n",
    "            bbox = ast.literal_eval(row[\"b_box\"])\n",
    "        except Exception as e:\n",
    "            print(f\"Skipping row due to bbox parse error: {row['path']}\")\n",
    "            continue\n",
    "\n",
    "        x_min, y_min, width, height = bbox\n",
    "        img_w = row[\"img_width\"]\n",
    "        img_h = row[\"img_height\"]\n",
    "\n",
    "        x_center, y_center, w, h = convert_bbox_to_yolo(img_w, img_h, x_min, y_min, width, height)\n",
    "\n",
    "        class_id = int(row[\"category_id\"]) - 1  # zero-based class index for YOLO\n",
    "\n",
    "        label_filename = os.path.splitext(os.path.basename(row[\"path\"]))[0] + \".txt\"\n",
    "        label_path = os.path.join(label_dest_dir, label_filename)\n",
    "\n",
    "        # Append label if file exists (multiple boxes per image)\n",
    "        with open(label_path, \"a\") as f:\n",
    "            f.write(f\"{class_id} {x_center:.6f} {y_center:.6f} {w:.6f} {h:.6f}\\n\")"
   ]
  },
  {
   "cell_type": "code",
   "execution_count": 15,
   "id": "7519728c",
   "metadata": {},
   "outputs": [
    {
     "name": "stdout",
     "output_type": "stream",
     "text": [
      "✅ YOLO-format dataset created!\n"
     ]
    }
   ],
   "source": [
    "process_csv(CSV_TRAIN, YOLO_TRAIN_LABEL_DIR)\n",
    "process_csv(CSV_VAL, YOLO_VAL_LABEL_DIR)\n",
    "\n",
    "print(\"✅ YOLO-format dataset created!\")"
   ]
  },
  {
   "cell_type": "code",
   "execution_count": null,
   "id": "a204ee03",
   "metadata": {},
   "outputs": [],
   "source": []
  }
 ],
 "metadata": {
  "kernelspec": {
   "display_name": "GBC-Outfit-Evaluator",
   "language": "python",
   "name": "python3"
  },
  "language_info": {
   "codemirror_mode": {
    "name": "ipython",
    "version": 3
   },
   "file_extension": ".py",
   "mimetype": "text/x-python",
   "name": "python",
   "nbconvert_exporter": "python",
   "pygments_lexer": "ipython3",
   "version": "3.13.5"
  }
 },
 "nbformat": 4,
 "nbformat_minor": 5
}
