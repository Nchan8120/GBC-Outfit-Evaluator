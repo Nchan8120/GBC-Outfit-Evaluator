{
 "cells": [
  {
   "cell_type": "code",
   "execution_count": 2,
   "id": "0ac6ffe9",
   "metadata": {},
   "outputs": [
    {
     "name": "stdout",
     "output_type": "stream",
     "text": [
      "Base Dataset Path: ..\\DeepFashion2-YOLO-Prepared\n",
      "Sampling Ratio (proportion to DELETE): 0.6\n",
      "------------------------------\n"
     ]
    }
   ],
   "source": [
    "import os\n",
    "import random\n",
    "import shutil\n",
    "\n",
    "# --- Configuration ---\n",
    "# Set the base path to your dataset.\n",
    "# This path should contain your 'train' and 'val' (and optionally 'test') folders.\n",
    "base_dataset_path = os.path.join(os.pardir, \"DeepFashion2-YOLO-Prepared\") \n",
    "\n",
    "# Define the sampling ratio (e.g., 0.5 for 50%, 0.2 for 20% deletion).\n",
    "# This is the PROPORTION of files you want to DELETE.\n",
    "# So, if you set sampling_ratio = 0.8, you will KEEP 20% of your data.\n",
    "sampling_ratio = 0.6\n",
    "\n",
    "# Subfolders where images and labels are located within train/val\n",
    "image_subfolder = 'images'\n",
    "label_subfolder = 'labels'\n",
    "\n",
    "print(f\"Base Dataset Path: {base_dataset_path}\")\n",
    "print(f\"Sampling Ratio (proportion to DELETE): {sampling_ratio}\")\n",
    "print(\"-\" * 30)\n"
   ]
  },
  {
   "cell_type": "code",
   "execution_count": 3,
   "id": "8e0225e5",
   "metadata": {},
   "outputs": [],
   "source": [
    "def sample_and_delete_files(dataset_type, ratio_to_delete):\n",
    "    \"\"\"\n",
    "    Randomly deletes a specified percentage of image and corresponding label files\n",
    "    from a given dataset type (e.g., 'train' or 'val').\n",
    "\n",
    "    Args:\n",
    "        dataset_type (str): The name of the dataset split folder (e.g., 'train', 'val').\n",
    "        ratio_to_delete (float): The proportion of files to delete (e.g., 0.8 for 80%).\n",
    "    \"\"\"\n",
    "    print(f\"Processing '{dataset_type}' dataset...\")\n",
    "\n",
    "    image_dir = os.path.join(base_dataset_path, dataset_type, image_subfolder)\n",
    "    label_dir = os.path.join(base_dataset_path, dataset_type, label_subfolder)\n",
    "\n",
    "    if not os.path.exists(image_dir):\n",
    "        print(f\"Error: Image directory not found: {image_dir}\")\n",
    "        return\n",
    "    if not os.path.exists(label_dir):\n",
    "        print(f\"Error: Label directory not found: {label_dir}\")\n",
    "        return\n",
    "\n",
    "    # List all image files (assuming common image extensions)\n",
    "    image_files = [f for f in os.listdir(image_dir) if f.lower().endswith(('.png', '.jpg', '.jpeg', '.gif', '.bmp', '.tiff'))]\n",
    "    \n",
    "    # Extract base names (without extension) for matching with labels\n",
    "    image_basenames = {os.path.splitext(f)[0] for f in image_files}\n",
    "\n",
    "    # List all label files\n",
    "    label_files = [f for f in os.listdir(label_dir) if f.lower().endswith('.txt')]\n",
    "    label_basenames = {os.path.splitext(f)[0] for f in label_files}\n",
    "\n",
    "    # Find common basenames (files that have both an image and a label)\n",
    "    common_basenames = list(image_basenames.intersection(label_basenames))\n",
    "    \n",
    "    if not common_basenames:\n",
    "        print(f\"No matching image-label pairs found in {dataset_type}.\")\n",
    "        return\n",
    "\n",
    "    total_files = len(common_basenames)\n",
    "    num_to_delete = int(total_files * ratio_to_delete)\n",
    "\n",
    "    if num_to_delete == 0 and ratio_to_delete > 0:\n",
    "        print(f\"Calculated 0 files to delete for {dataset_type}. Adjust ratio if needed.\")\n",
    "        return\n",
    "    \n",
    "    if num_to_delete >= total_files:\n",
    "        print(f\"Warning: Attempting to delete all files ({num_to_delete}/{total_files}) in {dataset_type}. If you want to delete all, proceed carefully.\")\n",
    "\n",
    "    print(f\"Total image-label pairs found: {total_files}\")\n",
    "    print(f\"Number of pairs to DELETE: {num_to_delete}\")\n",
    "\n",
    "    # Randomly select basenames to delete\n",
    "    files_to_delete_basenames = random.sample(common_basenames, num_to_delete)\n",
    "\n",
    "    deleted_count = 0\n",
    "    for basename in files_to_delete_basenames:\n",
    "        # Find the full image file name (with original extension)\n",
    "        img_match = [f for f in image_files if os.path.splitext(f)[0] == basename]\n",
    "        if img_match:\n",
    "            img_path = os.path.join(image_dir, img_match[0])\n",
    "            try:\n",
    "                os.remove(img_path)\n",
    "                # print(f\"Deleted image: {img_path}\")\n",
    "            except OSError as e:\n",
    "                print(f\"Error deleting image {img_path}: {e}\")\n",
    "                continue # If image deletion fails, skip label deletion for this pair\n",
    "\n",
    "            # Delete corresponding label file\n",
    "            label_path = os.path.join(label_dir, basename + '.txt')\n",
    "            try:\n",
    "                os.remove(label_path)\n",
    "                # print(f\"Deleted label: {label_path}\")\n",
    "                deleted_count += 1\n",
    "            except OSError as e:\n",
    "                print(f\"Error deleting label {label_path}: {e}\")\n",
    "        else:\n",
    "            print(f\"Warning: Image for basename {basename} not found, skipping.\")\n",
    "\n",
    "    print(f\"Successfully deleted {deleted_count} image-label pairs from '{dataset_type}'.\")\n",
    "    print(f\"Remaining files in '{dataset_type}': {total_files - deleted_count}\")\n",
    "    print(\"-\" * 30)\n"
   ]
  },
  {
   "cell_type": "code",
   "execution_count": 4,
   "id": "c0ad9862",
   "metadata": {},
   "outputs": [
    {
     "name": "stdout",
     "output_type": "stream",
     "text": [
      "Processing 'train' dataset...\n",
      "Total image-label pairs found: 191961\n",
      "Number of pairs to DELETE: 115176\n"
     ]
    },
    {
     "ename": "KeyboardInterrupt",
     "evalue": "",
     "output_type": "error",
     "traceback": [
      "\u001b[31m---------------------------------------------------------------------------\u001b[39m",
      "\u001b[31mKeyboardInterrupt\u001b[39m                         Traceback (most recent call last)",
      "\u001b[36mCell\u001b[39m\u001b[36m \u001b[39m\u001b[32mIn[4]\u001b[39m\u001b[32m, line 2\u001b[39m\n\u001b[32m      1\u001b[39m \u001b[38;5;66;03m# Execute for training data\u001b[39;00m\n\u001b[32m----> \u001b[39m\u001b[32m2\u001b[39m \u001b[43msample_and_delete_files\u001b[49m\u001b[43m(\u001b[49m\u001b[33;43m'\u001b[39;49m\u001b[33;43mtrain\u001b[39;49m\u001b[33;43m'\u001b[39;49m\u001b[43m,\u001b[49m\u001b[43m \u001b[49m\u001b[43msampling_ratio\u001b[49m\u001b[43m)\u001b[49m\n\u001b[32m      4\u001b[39m \u001b[38;5;66;03m# Execute for validation data\u001b[39;00m\n\u001b[32m      5\u001b[39m sample_and_delete_files(\u001b[33m'\u001b[39m\u001b[33mval\u001b[39m\u001b[33m'\u001b[39m, sampling_ratio)\n",
      "\u001b[36mCell\u001b[39m\u001b[36m \u001b[39m\u001b[32mIn[3]\u001b[39m\u001b[32m, line 58\u001b[39m, in \u001b[36msample_and_delete_files\u001b[39m\u001b[34m(dataset_type, ratio_to_delete)\u001b[39m\n\u001b[32m     55\u001b[39m deleted_count = \u001b[32m0\u001b[39m\n\u001b[32m     56\u001b[39m \u001b[38;5;28;01mfor\u001b[39;00m basename \u001b[38;5;129;01min\u001b[39;00m files_to_delete_basenames:\n\u001b[32m     57\u001b[39m     \u001b[38;5;66;03m# Find the full image file name (with original extension)\u001b[39;00m\n\u001b[32m---> \u001b[39m\u001b[32m58\u001b[39m     img_match = [f \u001b[38;5;28;01mfor\u001b[39;00m f \u001b[38;5;129;01min\u001b[39;00m image_files \u001b[38;5;28;01mif\u001b[39;00m \u001b[43mos\u001b[49m\u001b[43m.\u001b[49m\u001b[43mpath\u001b[49m\u001b[43m.\u001b[49m\u001b[43msplitext\u001b[49m\u001b[43m(\u001b[49m\u001b[43mf\u001b[49m\u001b[43m)\u001b[49m[\u001b[32m0\u001b[39m] == basename]\n\u001b[32m     59\u001b[39m     \u001b[38;5;28;01mif\u001b[39;00m img_match:\n\u001b[32m     60\u001b[39m         img_path = os.path.join(image_dir, img_match[\u001b[32m0\u001b[39m])\n",
      "\u001b[36mFile \u001b[39m\u001b[32m<frozen ntpath>:244\u001b[39m, in \u001b[36msplitext\u001b[39m\u001b[34m(p)\u001b[39m\n",
      "\u001b[31mKeyboardInterrupt\u001b[39m: "
     ]
    }
   ],
   "source": [
    "# Execute for training data\n",
    "sample_and_delete_files('train', sampling_ratio)\n",
    "\n",
    "# Execute for validation data\n",
    "sample_and_delete_files('val', sampling_ratio)\n",
    "\n",
    "print(\"\\nSampling process completed!\")\n"
   ]
  },
  {
   "cell_type": "code",
   "execution_count": null,
   "id": "55e87139",
   "metadata": {},
   "outputs": [],
   "source": []
  }
 ],
 "metadata": {
  "kernelspec": {
   "display_name": "GBC-Outfit-Evaluator",
   "language": "python",
   "name": "python3"
  },
  "language_info": {
   "codemirror_mode": {
    "name": "ipython",
    "version": 3
   },
   "file_extension": ".py",
   "mimetype": "text/x-python",
   "name": "python",
   "nbconvert_exporter": "python",
   "pygments_lexer": "ipython3",
   "version": "3.13.5"
  }
 },
 "nbformat": 4,
 "nbformat_minor": 5
}
